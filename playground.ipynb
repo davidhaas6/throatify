{
 "metadata": {
  "language_info": {
   "codemirror_mode": {
    "name": "ipython",
    "version": 3
   },
   "file_extension": ".py",
   "mimetype": "text/x-python",
   "name": "python",
   "nbconvert_exporter": "python",
   "pygments_lexer": "ipython3",
   "version": "3.9.2"
  },
  "orig_nbformat": 2,
  "kernelspec": {
   "name": "python392jvsc74a57bd063fd5069d213b44bf678585dea6b12cceca9941eaf7f819626cde1f2670de90d",
   "display_name": "Python 3.9.2 64-bit"
  }
 },
 "nbformat": 4,
 "nbformat_minor": 2,
 "cells": [
  {
   "cell_type": "code",
   "execution_count": 2,
   "metadata": {},
   "outputs": [],
   "source": [
    "import pretty_midi\n",
    "import numpy as np\n",
    "import pandas as pd\n"
   ]
  },
  {
   "cell_type": "code",
   "execution_count": 7,
   "metadata": {
    "tags": []
   },
   "outputs": [
    {
     "output_type": "stream",
     "name": "stdout",
     "text": [
      "duration: 337.8\n      note      start        end\n[Instrument(program=122, is_drum=False, name=\"\"), Instrument(program=127, is_drum=False, name=\"\"), Instrument(program=50, is_drum=False, name=\"\"), Instrument(program=87, is_drum=False, name=\"\"), Instrument(program=90, is_drum=False, name=\"\"), Instrument(program=80, is_drum=False, name=\"\"), Instrument(program=109, is_drum=False, name=\"\"), Instrument(program=26, is_drum=False, name=\"\"), Instrument(program=0, is_drum=True, name=\"\"), Instrument(program=87, is_drum=False, name=\"\"), Instrument(program=123, is_drum=False, name=\"\")]\n"
     ]
    }
   ],
   "source": [
    "\n",
    "midi_data = pretty_midi.PrettyMIDI('songs/darude_sandstorm.mid')\n",
    "print(\"duration:\",midi_data.get_end_time())\n",
    "print(f'{\"note\":>10} {\"start\":>10} {\"end\":>10}')\n",
    "\n",
    "# Instrument codes: http://www.ccarh.org/courses/253/handout/gminstruments/\n",
    "instruments = midi_data.instruments\n",
    "print(instruments)\n",
    "\n",
    "piano1 = instruments[0]"
   ]
  },
  {
   "cell_type": "code",
   "execution_count": 25,
   "metadata": {
    "tags": []
   },
   "outputs": [],
   "source": [
    "def get_df(instrument):\n",
    "    attrs = ['start', 'end', 'pitch', 'velocity']\n",
    "    data = [[getattr(note, a) for a in attrs] for note in instrument.notes]\n",
    "    instr_df = pd.DataFrame(data, columns=['start','end','note', 'velocity'])\n",
    "    to_hz = lambda notenum: 2 ** ((notenum - 69)/12) * 440\n",
    "    instr_df['freq'] = instr_df.note.map(to_hz)\n",
    "    instr_df['duration'] = instr_df.end - instr_df.start\n",
    "    return instr_df\n"
   ]
  },
  {
   "cell_type": "code",
   "execution_count": 26,
   "metadata": {},
   "outputs": [
    {
     "output_type": "execute_result",
     "data": {
      "text/plain": [
       "[3, 2, 1, 6, 9, 8, 4, 8, 13, 6, 3]"
      ]
     },
     "metadata": {},
     "execution_count": 26
    }
   ],
   "source": [
    "instrument_dfs = [get_df(instr) for instr in instruments]\n",
    "[len(df.note.unique()) for df in instrument_dfs] "
   ]
  },
  {
   "cell_type": "code",
   "execution_count": 27,
   "metadata": {},
   "outputs": [
    {
     "output_type": "execute_result",
     "data": {
      "text/plain": [
       "        start      end  note  velocity        freq  duration\n",
       "0       4.800    5.400    35       127   61.735413     0.600\n",
       "1       4.800    5.400    49       100  138.591315     0.600\n",
       "2       4.800    5.400    36       100   65.406391     0.600\n",
       "3       4.800    5.400    43       100   97.998859     0.600\n",
       "4      23.400   24.000    35       100   61.735413     0.600\n",
       "...       ...      ...   ...       ...         ...       ...\n",
       "1869  330.900  330.975    59       100  246.941651     0.075\n",
       "1870  330.975  331.050    40        90   82.406889     0.075\n",
       "1871  331.050  331.125    40        90   82.406889     0.075\n",
       "1872  331.125  331.200    40        90   82.406889     0.075\n",
       "1873  331.200  331.275    57       100  220.000000     0.075\n",
       "\n",
       "[1874 rows x 6 columns]"
      ],
      "text/html": "<div>\n<style scoped>\n    .dataframe tbody tr th:only-of-type {\n        vertical-align: middle;\n    }\n\n    .dataframe tbody tr th {\n        vertical-align: top;\n    }\n\n    .dataframe thead th {\n        text-align: right;\n    }\n</style>\n<table border=\"1\" class=\"dataframe\">\n  <thead>\n    <tr style=\"text-align: right;\">\n      <th></th>\n      <th>start</th>\n      <th>end</th>\n      <th>note</th>\n      <th>velocity</th>\n      <th>freq</th>\n      <th>duration</th>\n    </tr>\n  </thead>\n  <tbody>\n    <tr>\n      <th>0</th>\n      <td>4.800</td>\n      <td>5.400</td>\n      <td>35</td>\n      <td>127</td>\n      <td>61.735413</td>\n      <td>0.600</td>\n    </tr>\n    <tr>\n      <th>1</th>\n      <td>4.800</td>\n      <td>5.400</td>\n      <td>49</td>\n      <td>100</td>\n      <td>138.591315</td>\n      <td>0.600</td>\n    </tr>\n    <tr>\n      <th>2</th>\n      <td>4.800</td>\n      <td>5.400</td>\n      <td>36</td>\n      <td>100</td>\n      <td>65.406391</td>\n      <td>0.600</td>\n    </tr>\n    <tr>\n      <th>3</th>\n      <td>4.800</td>\n      <td>5.400</td>\n      <td>43</td>\n      <td>100</td>\n      <td>97.998859</td>\n      <td>0.600</td>\n    </tr>\n    <tr>\n      <th>4</th>\n      <td>23.400</td>\n      <td>24.000</td>\n      <td>35</td>\n      <td>100</td>\n      <td>61.735413</td>\n      <td>0.600</td>\n    </tr>\n    <tr>\n      <th>...</th>\n      <td>...</td>\n      <td>...</td>\n      <td>...</td>\n      <td>...</td>\n      <td>...</td>\n      <td>...</td>\n    </tr>\n    <tr>\n      <th>1869</th>\n      <td>330.900</td>\n      <td>330.975</td>\n      <td>59</td>\n      <td>100</td>\n      <td>246.941651</td>\n      <td>0.075</td>\n    </tr>\n    <tr>\n      <th>1870</th>\n      <td>330.975</td>\n      <td>331.050</td>\n      <td>40</td>\n      <td>90</td>\n      <td>82.406889</td>\n      <td>0.075</td>\n    </tr>\n    <tr>\n      <th>1871</th>\n      <td>331.050</td>\n      <td>331.125</td>\n      <td>40</td>\n      <td>90</td>\n      <td>82.406889</td>\n      <td>0.075</td>\n    </tr>\n    <tr>\n      <th>1872</th>\n      <td>331.125</td>\n      <td>331.200</td>\n      <td>40</td>\n      <td>90</td>\n      <td>82.406889</td>\n      <td>0.075</td>\n    </tr>\n    <tr>\n      <th>1873</th>\n      <td>331.200</td>\n      <td>331.275</td>\n      <td>57</td>\n      <td>100</td>\n      <td>220.000000</td>\n      <td>0.075</td>\n    </tr>\n  </tbody>\n</table>\n<p>1874 rows × 6 columns</p>\n</div>"
     },
     "metadata": {},
     "execution_count": 27
    }
   ],
   "source": [
    "instrument_dfs[-3]"
   ]
  },
  {
   "cell_type": "code",
   "execution_count": 24,
   "metadata": {},
   "outputs": [
    {
     "output_type": "execute_result",
     "data": {
      "text/plain": [
       "246.94165062806206"
      ]
     },
     "metadata": {},
     "execution_count": 24
    }
   ],
   "source": [
    "import librosa\n",
    "librosa.midi_to_hz(59)"
   ]
  },
  {
   "cell_type": "code",
   "execution_count": 8,
   "metadata": {},
   "outputs": [
    {
     "output_type": "execute_result",
     "data": {
      "text/plain": [
       "     start     end  note  velocity        freq  duration\n",
       "0     0.00   0.300    62       108  293.664768     0.300\n",
       "1     0.30   0.450    62       108  293.664768     0.150\n",
       "2     0.45   0.750    62       108  293.664768     0.300\n",
       "3     0.75   0.900    62       108  293.664768     0.150\n",
       "4     0.90   1.200    62       108  293.664768     0.300\n",
       "..     ...     ...   ...       ...         ...       ...\n",
       "555  75.30  75.550    76       108  659.255114     0.250\n",
       "556  75.60  76.000    65       108  349.228231     0.400\n",
       "557  75.60  76.000    69       108  440.000000     0.400\n",
       "558  75.60  76.000    74       108  587.329536     0.400\n",
       "559  76.50  77.625    62       108  293.664768     1.125\n",
       "\n",
       "[560 rows x 6 columns]"
      ],
      "text/html": "<div>\n<style scoped>\n    .dataframe tbody tr th:only-of-type {\n        vertical-align: middle;\n    }\n\n    .dataframe tbody tr th {\n        vertical-align: top;\n    }\n\n    .dataframe thead th {\n        text-align: right;\n    }\n</style>\n<table border=\"1\" class=\"dataframe\">\n  <thead>\n    <tr style=\"text-align: right;\">\n      <th></th>\n      <th>start</th>\n      <th>end</th>\n      <th>note</th>\n      <th>velocity</th>\n      <th>freq</th>\n      <th>duration</th>\n    </tr>\n  </thead>\n  <tbody>\n    <tr>\n      <th>0</th>\n      <td>0.00</td>\n      <td>0.300</td>\n      <td>62</td>\n      <td>108</td>\n      <td>293.664768</td>\n      <td>0.300</td>\n    </tr>\n    <tr>\n      <th>1</th>\n      <td>0.30</td>\n      <td>0.450</td>\n      <td>62</td>\n      <td>108</td>\n      <td>293.664768</td>\n      <td>0.150</td>\n    </tr>\n    <tr>\n      <th>2</th>\n      <td>0.45</td>\n      <td>0.750</td>\n      <td>62</td>\n      <td>108</td>\n      <td>293.664768</td>\n      <td>0.300</td>\n    </tr>\n    <tr>\n      <th>3</th>\n      <td>0.75</td>\n      <td>0.900</td>\n      <td>62</td>\n      <td>108</td>\n      <td>293.664768</td>\n      <td>0.150</td>\n    </tr>\n    <tr>\n      <th>4</th>\n      <td>0.90</td>\n      <td>1.200</td>\n      <td>62</td>\n      <td>108</td>\n      <td>293.664768</td>\n      <td>0.300</td>\n    </tr>\n    <tr>\n      <th>...</th>\n      <td>...</td>\n      <td>...</td>\n      <td>...</td>\n      <td>...</td>\n      <td>...</td>\n      <td>...</td>\n    </tr>\n    <tr>\n      <th>555</th>\n      <td>75.30</td>\n      <td>75.550</td>\n      <td>76</td>\n      <td>108</td>\n      <td>659.255114</td>\n      <td>0.250</td>\n    </tr>\n    <tr>\n      <th>556</th>\n      <td>75.60</td>\n      <td>76.000</td>\n      <td>65</td>\n      <td>108</td>\n      <td>349.228231</td>\n      <td>0.400</td>\n    </tr>\n    <tr>\n      <th>557</th>\n      <td>75.60</td>\n      <td>76.000</td>\n      <td>69</td>\n      <td>108</td>\n      <td>440.000000</td>\n      <td>0.400</td>\n    </tr>\n    <tr>\n      <th>558</th>\n      <td>75.60</td>\n      <td>76.000</td>\n      <td>74</td>\n      <td>108</td>\n      <td>587.329536</td>\n      <td>0.400</td>\n    </tr>\n    <tr>\n      <th>559</th>\n      <td>76.50</td>\n      <td>77.625</td>\n      <td>62</td>\n      <td>108</td>\n      <td>293.664768</td>\n      <td>1.125</td>\n    </tr>\n  </tbody>\n</table>\n<p>560 rows × 6 columns</p>\n</div>"
     },
     "metadata": {},
     "execution_count": 8
    }
   ],
   "source": [
    "to_hz = lambda notenum: 2 ** ((notenum - 69)/12) * 440\n",
    "piano_df['freq'] = piano_df.note.map(to_hz)\n",
    "piano_df['duration'] = piano_df.end - piano_df.start\n",
    "piano_df"
   ]
  },
  {
   "cell_type": "code",
   "execution_count": 7,
   "metadata": {},
   "outputs": [
    {
     "output_type": "execute_result",
     "data": {
      "text/plain": "freq\n174.614116     0.300\n195.997718     0.400\n220.000000     0.525\n233.081881     0.300\n246.941651     0.150\n261.625565     0.300\n277.182631     0.450\n293.664768     1.125\n329.627557     0.450\n349.228231     0.525\n391.995436     0.300\n440.000000     0.400\n466.163762     0.300\n523.251131     0.300\n554.365262     0.300\n587.329536     0.400\n659.255114     0.300\n698.456463     0.400\n783.990872     0.300\n880.000000     0.400\n932.327523     0.400\n1046.502261    0.250\nName: duration, dtype: float64"
     },
     "metadata": {},
     "execution_count": 7
    }
   ],
   "source": [
    "# Max duration for each note -- how long you need to record for\n",
    "piano_df.groupby('freq').duration.max()"
   ]
  },
  {
   "cell_type": "code",
   "execution_count": null,
   "metadata": {},
   "outputs": [],
   "source": [
    "# Midi velocity to volume?"
   ]
  }
 ]
}