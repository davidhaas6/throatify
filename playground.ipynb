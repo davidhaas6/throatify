{
 "metadata": {
  "language_info": {
   "codemirror_mode": {
    "name": "ipython",
    "version": 3
   },
   "file_extension": ".py",
   "mimetype": "text/x-python",
   "name": "python",
   "nbconvert_exporter": "python",
   "pygments_lexer": "ipython3",
   "version": "3.7.5-final"
  },
  "orig_nbformat": 2,
  "kernelspec": {
   "name": "python_defaultSpec_1598804249471",
   "display_name": "Python 3.7.5 64-bit"
  }
 },
 "nbformat": 4,
 "nbformat_minor": 2,
 "cells": [
  {
   "cell_type": "code",
   "execution_count": 43,
   "metadata": {},
   "outputs": [],
   "source": [
    "import pretty_midi\n",
    "import numpy as np\n",
    "import pandas as pd\n"
   ]
  },
  {
   "cell_type": "code",
   "execution_count": 65,
   "metadata": {
    "tags": []
   },
   "outputs": [
    {
     "output_type": "stream",
     "name": "stdout",
     "text": "duration: 333.4011438333333\n      note      start        end\n[Instrument(program=1, is_drum=False, name=\"\"), Instrument(program=1, is_drum=False, name=\"\"), Instrument(program=25, is_drum=False, name=\"\"), Instrument(program=22, is_drum=False, name=\"\")]\n"
    }
   ],
   "source": [
    "\n",
    "midi_data = pretty_midi.PrettyMIDI('songs/piano_man.mid')\n",
    "print(\"duration:\",midi_data.get_end_time())\n",
    "print(f'{\"note\":>10} {\"start\":>10} {\"end\":>10}')\n",
    "\n",
    "# Instrument codes: http://www.ccarh.org/courses/253/handout/gminstruments/\n",
    "instruments = midi_data.instruments\n",
    "print(instruments)\n",
    "\n",
    "piano1 = instruments[0]"
   ]
  },
  {
   "cell_type": "code",
   "execution_count": 76,
   "metadata": {
    "tags": []
   },
   "outputs": [],
   "source": [
    "def get_raw_notes(instrument):\n",
    "    attrs = ['start', 'end', 'pitch', 'velocity']\n",
    "    return [[getattr(note, a) for a in attrs] for note in instrument.notes]\n"
   ]
  },
  {
   "cell_type": "code",
   "execution_count": 78,
   "metadata": {},
   "outputs": [
    {
     "output_type": "execute_result",
     "data": {
      "text/plain": "           start         end  note  velocity\n0       0.000000    0.748299    67        75\n1       0.000000    0.748299    64        75\n2       0.816326    1.156462    67        75\n3       0.816326    1.156462    64        75\n4       0.408163    1.156462    60        75\n...          ...         ...   ...       ...\n1755  331.020193  331.360329    55        92\n1756  331.428356  331.768492    60        92\n1757  331.428356  331.768492    53        92\n1758  331.836519  333.163049    60        92\n1759  331.836519  333.163049    52        92\n\n[1760 rows x 4 columns]",
      "text/html": "<div>\n<style scoped>\n    .dataframe tbody tr th:only-of-type {\n        vertical-align: middle;\n    }\n\n    .dataframe tbody tr th {\n        vertical-align: top;\n    }\n\n    .dataframe thead th {\n        text-align: right;\n    }\n</style>\n<table border=\"1\" class=\"dataframe\">\n  <thead>\n    <tr style=\"text-align: right;\">\n      <th></th>\n      <th>start</th>\n      <th>end</th>\n      <th>note</th>\n      <th>velocity</th>\n    </tr>\n  </thead>\n  <tbody>\n    <tr>\n      <th>0</th>\n      <td>0.000000</td>\n      <td>0.748299</td>\n      <td>67</td>\n      <td>75</td>\n    </tr>\n    <tr>\n      <th>1</th>\n      <td>0.000000</td>\n      <td>0.748299</td>\n      <td>64</td>\n      <td>75</td>\n    </tr>\n    <tr>\n      <th>2</th>\n      <td>0.816326</td>\n      <td>1.156462</td>\n      <td>67</td>\n      <td>75</td>\n    </tr>\n    <tr>\n      <th>3</th>\n      <td>0.816326</td>\n      <td>1.156462</td>\n      <td>64</td>\n      <td>75</td>\n    </tr>\n    <tr>\n      <th>4</th>\n      <td>0.408163</td>\n      <td>1.156462</td>\n      <td>60</td>\n      <td>75</td>\n    </tr>\n    <tr>\n      <th>...</th>\n      <td>...</td>\n      <td>...</td>\n      <td>...</td>\n      <td>...</td>\n    </tr>\n    <tr>\n      <th>1755</th>\n      <td>331.020193</td>\n      <td>331.360329</td>\n      <td>55</td>\n      <td>92</td>\n    </tr>\n    <tr>\n      <th>1756</th>\n      <td>331.428356</td>\n      <td>331.768492</td>\n      <td>60</td>\n      <td>92</td>\n    </tr>\n    <tr>\n      <th>1757</th>\n      <td>331.428356</td>\n      <td>331.768492</td>\n      <td>53</td>\n      <td>92</td>\n    </tr>\n    <tr>\n      <th>1758</th>\n      <td>331.836519</td>\n      <td>333.163049</td>\n      <td>60</td>\n      <td>92</td>\n    </tr>\n    <tr>\n      <th>1759</th>\n      <td>331.836519</td>\n      <td>333.163049</td>\n      <td>52</td>\n      <td>92</td>\n    </tr>\n  </tbody>\n</table>\n<p>1760 rows × 4 columns</p>\n</div>"
     },
     "metadata": {},
     "execution_count": 78
    }
   ],
   "source": [
    "piano_df = pd.DataFrame(get_raw_notes(piano1), \n",
    "                        columns=['start','end','note', 'velocity'])\n",
    "piano_df "
   ]
  },
  {
   "cell_type": "code",
   "execution_count": 80,
   "metadata": {},
   "outputs": [
    {
     "output_type": "execute_result",
     "data": {
      "text/plain": "           start         end  note  velocity        freq  duration\n0       0.000000    0.748299    67        75  391.995436  0.748299\n1       0.000000    0.748299    64        75  329.627557  0.748299\n2       0.816326    1.156462    67        75  391.995436  0.340136\n3       0.816326    1.156462    64        75  329.627557  0.340136\n4       0.408163    1.156462    60        75  261.625565  0.748299\n...          ...         ...   ...       ...         ...       ...\n1755  331.020193  331.360329    55        92  195.997718  0.340136\n1756  331.428356  331.768492    60        92  261.625565  0.340136\n1757  331.428356  331.768492    53        92  174.614116  0.340136\n1758  331.836519  333.163049    60        92  261.625565  1.326530\n1759  331.836519  333.163049    52        92  164.813778  1.326530\n\n[1760 rows x 6 columns]",
      "text/html": "<div>\n<style scoped>\n    .dataframe tbody tr th:only-of-type {\n        vertical-align: middle;\n    }\n\n    .dataframe tbody tr th {\n        vertical-align: top;\n    }\n\n    .dataframe thead th {\n        text-align: right;\n    }\n</style>\n<table border=\"1\" class=\"dataframe\">\n  <thead>\n    <tr style=\"text-align: right;\">\n      <th></th>\n      <th>start</th>\n      <th>end</th>\n      <th>note</th>\n      <th>velocity</th>\n      <th>freq</th>\n      <th>duration</th>\n    </tr>\n  </thead>\n  <tbody>\n    <tr>\n      <th>0</th>\n      <td>0.000000</td>\n      <td>0.748299</td>\n      <td>67</td>\n      <td>75</td>\n      <td>391.995436</td>\n      <td>0.748299</td>\n    </tr>\n    <tr>\n      <th>1</th>\n      <td>0.000000</td>\n      <td>0.748299</td>\n      <td>64</td>\n      <td>75</td>\n      <td>329.627557</td>\n      <td>0.748299</td>\n    </tr>\n    <tr>\n      <th>2</th>\n      <td>0.816326</td>\n      <td>1.156462</td>\n      <td>67</td>\n      <td>75</td>\n      <td>391.995436</td>\n      <td>0.340136</td>\n    </tr>\n    <tr>\n      <th>3</th>\n      <td>0.816326</td>\n      <td>1.156462</td>\n      <td>64</td>\n      <td>75</td>\n      <td>329.627557</td>\n      <td>0.340136</td>\n    </tr>\n    <tr>\n      <th>4</th>\n      <td>0.408163</td>\n      <td>1.156462</td>\n      <td>60</td>\n      <td>75</td>\n      <td>261.625565</td>\n      <td>0.748299</td>\n    </tr>\n    <tr>\n      <th>...</th>\n      <td>...</td>\n      <td>...</td>\n      <td>...</td>\n      <td>...</td>\n      <td>...</td>\n      <td>...</td>\n    </tr>\n    <tr>\n      <th>1755</th>\n      <td>331.020193</td>\n      <td>331.360329</td>\n      <td>55</td>\n      <td>92</td>\n      <td>195.997718</td>\n      <td>0.340136</td>\n    </tr>\n    <tr>\n      <th>1756</th>\n      <td>331.428356</td>\n      <td>331.768492</td>\n      <td>60</td>\n      <td>92</td>\n      <td>261.625565</td>\n      <td>0.340136</td>\n    </tr>\n    <tr>\n      <th>1757</th>\n      <td>331.428356</td>\n      <td>331.768492</td>\n      <td>53</td>\n      <td>92</td>\n      <td>174.614116</td>\n      <td>0.340136</td>\n    </tr>\n    <tr>\n      <th>1758</th>\n      <td>331.836519</td>\n      <td>333.163049</td>\n      <td>60</td>\n      <td>92</td>\n      <td>261.625565</td>\n      <td>1.326530</td>\n    </tr>\n    <tr>\n      <th>1759</th>\n      <td>331.836519</td>\n      <td>333.163049</td>\n      <td>52</td>\n      <td>92</td>\n      <td>164.813778</td>\n      <td>1.326530</td>\n    </tr>\n  </tbody>\n</table>\n<p>1760 rows × 6 columns</p>\n</div>"
     },
     "metadata": {},
     "execution_count": 80
    }
   ],
   "source": [
    "piano_df['freq'] = piano_df.note.map(to_hz)\n",
    "piano_df['duration'] = piano_df.end - piano_df.start\n",
    "piano_df"
   ]
  },
  {
   "cell_type": "code",
   "execution_count": 84,
   "metadata": {},
   "outputs": [
    {
     "output_type": "execute_result",
     "data": {
      "text/plain": "freq\n164.813778    1.326530\n174.614116    0.340136\n184.997211    0.340136\n195.997718    0.714285\n220.000000    0.714285\n246.941651    1.122448\n261.625565    1.530611\n293.664768    1.564625\n329.627557    0.748299\n349.228231    0.714285\n369.994423    0.714285\n391.995436    1.156462\n440.000000    1.122448\n493.883301    1.938774\n523.251131    1.734693\n587.329536    1.564625\n659.255114    0.748299\n698.456463    0.607993\n783.990872    0.714285\nName: duration, dtype: float64"
     },
     "metadata": {},
     "execution_count": 84
    }
   ],
   "source": [
    "# Max duration for each note -- how long you need to record for\n",
    "piano_df.groupby('freq').duration.max()"
   ]
  },
  {
   "cell_type": "code",
   "execution_count": null,
   "metadata": {},
   "outputs": [],
   "source": [
    "# Midi velocity to volume?"
   ]
  }
 ]
}