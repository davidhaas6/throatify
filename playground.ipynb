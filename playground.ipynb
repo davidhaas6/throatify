{
 "metadata": {
  "language_info": {
   "codemirror_mode": {
    "name": "ipython",
    "version": 3
   },
   "file_extension": ".py",
   "mimetype": "text/x-python",
   "name": "python",
   "nbconvert_exporter": "python",
   "pygments_lexer": "ipython3",
   "version": "3.7.5-final"
  },
  "orig_nbformat": 2,
  "kernelspec": {
   "name": "python3",
   "display_name": "Python 3.7.5 64-bit",
   "metadata": {
    "interpreter": {
     "hash": "aee8b7b246df8f9039afb4144a1f6fd8d2ca17a180786b69acc140d282b71a49"
    }
   }
  }
 },
 "nbformat": 4,
 "nbformat_minor": 2,
 "cells": [
  {
   "cell_type": "code",
   "execution_count": 1,
   "metadata": {},
   "outputs": [],
   "source": [
    "import pretty_midi\n",
    "import numpy as np\n",
    "import pandas as pd\n"
   ]
  },
  {
   "cell_type": "code",
   "execution_count": 5,
   "metadata": {
    "tags": []
   },
   "outputs": [
    {
     "output_type": "stream",
     "name": "stdout",
     "text": [
      "duration: 77.625\n      note      start        end\n[Instrument(program=0, is_drum=False, name=\"Right Hand\"), Instrument(program=0, is_drum=False, name=\"Left Hand\"), Instrument(program=48, is_drum=False, name=\"Staff-1\")]\n"
     ]
    }
   ],
   "source": [
    "\n",
    "midi_data = pretty_midi.PrettyMIDI('songs/hes_a_pirate.mid')\n",
    "print(\"duration:\",midi_data.get_end_time())\n",
    "print(f'{\"note\":>10} {\"start\":>10} {\"end\":>10}')\n",
    "\n",
    "# Instrument codes: http://www.ccarh.org/courses/253/handout/gminstruments/\n",
    "instruments = midi_data.instruments\n",
    "print(instruments)\n",
    "\n",
    "piano1 = instruments[0]"
   ]
  },
  {
   "cell_type": "code",
   "execution_count": 6,
   "metadata": {
    "tags": []
   },
   "outputs": [],
   "source": [
    "def get_raw_notes(instrument):\n",
    "    attrs = ['start', 'end', 'pitch', 'velocity']\n",
    "    return [[getattr(note, a) for a in attrs] for note in instrument.notes]\n"
   ]
  },
  {
   "cell_type": "code",
   "execution_count": 7,
   "metadata": {},
   "outputs": [
    {
     "output_type": "execute_result",
     "data": {
      "text/plain": [
       "     start     end  note  velocity\n",
       "0     0.00   0.300    62       108\n",
       "1     0.30   0.450    62       108\n",
       "2     0.45   0.750    62       108\n",
       "3     0.75   0.900    62       108\n",
       "4     0.90   1.200    62       108\n",
       "..     ...     ...   ...       ...\n",
       "555  75.30  75.550    76       108\n",
       "556  75.60  76.000    65       108\n",
       "557  75.60  76.000    69       108\n",
       "558  75.60  76.000    74       108\n",
       "559  76.50  77.625    62       108\n",
       "\n",
       "[560 rows x 4 columns]"
      ],
      "text/html": "<div>\n<style scoped>\n    .dataframe tbody tr th:only-of-type {\n        vertical-align: middle;\n    }\n\n    .dataframe tbody tr th {\n        vertical-align: top;\n    }\n\n    .dataframe thead th {\n        text-align: right;\n    }\n</style>\n<table border=\"1\" class=\"dataframe\">\n  <thead>\n    <tr style=\"text-align: right;\">\n      <th></th>\n      <th>start</th>\n      <th>end</th>\n      <th>note</th>\n      <th>velocity</th>\n    </tr>\n  </thead>\n  <tbody>\n    <tr>\n      <th>0</th>\n      <td>0.00</td>\n      <td>0.300</td>\n      <td>62</td>\n      <td>108</td>\n    </tr>\n    <tr>\n      <th>1</th>\n      <td>0.30</td>\n      <td>0.450</td>\n      <td>62</td>\n      <td>108</td>\n    </tr>\n    <tr>\n      <th>2</th>\n      <td>0.45</td>\n      <td>0.750</td>\n      <td>62</td>\n      <td>108</td>\n    </tr>\n    <tr>\n      <th>3</th>\n      <td>0.75</td>\n      <td>0.900</td>\n      <td>62</td>\n      <td>108</td>\n    </tr>\n    <tr>\n      <th>4</th>\n      <td>0.90</td>\n      <td>1.200</td>\n      <td>62</td>\n      <td>108</td>\n    </tr>\n    <tr>\n      <th>...</th>\n      <td>...</td>\n      <td>...</td>\n      <td>...</td>\n      <td>...</td>\n    </tr>\n    <tr>\n      <th>555</th>\n      <td>75.30</td>\n      <td>75.550</td>\n      <td>76</td>\n      <td>108</td>\n    </tr>\n    <tr>\n      <th>556</th>\n      <td>75.60</td>\n      <td>76.000</td>\n      <td>65</td>\n      <td>108</td>\n    </tr>\n    <tr>\n      <th>557</th>\n      <td>75.60</td>\n      <td>76.000</td>\n      <td>69</td>\n      <td>108</td>\n    </tr>\n    <tr>\n      <th>558</th>\n      <td>75.60</td>\n      <td>76.000</td>\n      <td>74</td>\n      <td>108</td>\n    </tr>\n    <tr>\n      <th>559</th>\n      <td>76.50</td>\n      <td>77.625</td>\n      <td>62</td>\n      <td>108</td>\n    </tr>\n  </tbody>\n</table>\n<p>560 rows × 4 columns</p>\n</div>"
     },
     "metadata": {},
     "execution_count": 7
    }
   ],
   "source": [
    "piano_df = pd.DataFrame(get_raw_notes(piano1), \n",
    "                        columns=['start','end','note', 'velocity'])\n",
    "piano_df "
   ]
  },
  {
   "cell_type": "code",
   "execution_count": 8,
   "metadata": {},
   "outputs": [
    {
     "output_type": "execute_result",
     "data": {
      "text/plain": [
       "     start     end  note  velocity        freq  duration\n",
       "0     0.00   0.300    62       108  293.664768     0.300\n",
       "1     0.30   0.450    62       108  293.664768     0.150\n",
       "2     0.45   0.750    62       108  293.664768     0.300\n",
       "3     0.75   0.900    62       108  293.664768     0.150\n",
       "4     0.90   1.200    62       108  293.664768     0.300\n",
       "..     ...     ...   ...       ...         ...       ...\n",
       "555  75.30  75.550    76       108  659.255114     0.250\n",
       "556  75.60  76.000    65       108  349.228231     0.400\n",
       "557  75.60  76.000    69       108  440.000000     0.400\n",
       "558  75.60  76.000    74       108  587.329536     0.400\n",
       "559  76.50  77.625    62       108  293.664768     1.125\n",
       "\n",
       "[560 rows x 6 columns]"
      ],
      "text/html": "<div>\n<style scoped>\n    .dataframe tbody tr th:only-of-type {\n        vertical-align: middle;\n    }\n\n    .dataframe tbody tr th {\n        vertical-align: top;\n    }\n\n    .dataframe thead th {\n        text-align: right;\n    }\n</style>\n<table border=\"1\" class=\"dataframe\">\n  <thead>\n    <tr style=\"text-align: right;\">\n      <th></th>\n      <th>start</th>\n      <th>end</th>\n      <th>note</th>\n      <th>velocity</th>\n      <th>freq</th>\n      <th>duration</th>\n    </tr>\n  </thead>\n  <tbody>\n    <tr>\n      <th>0</th>\n      <td>0.00</td>\n      <td>0.300</td>\n      <td>62</td>\n      <td>108</td>\n      <td>293.664768</td>\n      <td>0.300</td>\n    </tr>\n    <tr>\n      <th>1</th>\n      <td>0.30</td>\n      <td>0.450</td>\n      <td>62</td>\n      <td>108</td>\n      <td>293.664768</td>\n      <td>0.150</td>\n    </tr>\n    <tr>\n      <th>2</th>\n      <td>0.45</td>\n      <td>0.750</td>\n      <td>62</td>\n      <td>108</td>\n      <td>293.664768</td>\n      <td>0.300</td>\n    </tr>\n    <tr>\n      <th>3</th>\n      <td>0.75</td>\n      <td>0.900</td>\n      <td>62</td>\n      <td>108</td>\n      <td>293.664768</td>\n      <td>0.150</td>\n    </tr>\n    <tr>\n      <th>4</th>\n      <td>0.90</td>\n      <td>1.200</td>\n      <td>62</td>\n      <td>108</td>\n      <td>293.664768</td>\n      <td>0.300</td>\n    </tr>\n    <tr>\n      <th>...</th>\n      <td>...</td>\n      <td>...</td>\n      <td>...</td>\n      <td>...</td>\n      <td>...</td>\n      <td>...</td>\n    </tr>\n    <tr>\n      <th>555</th>\n      <td>75.30</td>\n      <td>75.550</td>\n      <td>76</td>\n      <td>108</td>\n      <td>659.255114</td>\n      <td>0.250</td>\n    </tr>\n    <tr>\n      <th>556</th>\n      <td>75.60</td>\n      <td>76.000</td>\n      <td>65</td>\n      <td>108</td>\n      <td>349.228231</td>\n      <td>0.400</td>\n    </tr>\n    <tr>\n      <th>557</th>\n      <td>75.60</td>\n      <td>76.000</td>\n      <td>69</td>\n      <td>108</td>\n      <td>440.000000</td>\n      <td>0.400</td>\n    </tr>\n    <tr>\n      <th>558</th>\n      <td>75.60</td>\n      <td>76.000</td>\n      <td>74</td>\n      <td>108</td>\n      <td>587.329536</td>\n      <td>0.400</td>\n    </tr>\n    <tr>\n      <th>559</th>\n      <td>76.50</td>\n      <td>77.625</td>\n      <td>62</td>\n      <td>108</td>\n      <td>293.664768</td>\n      <td>1.125</td>\n    </tr>\n  </tbody>\n</table>\n<p>560 rows × 6 columns</p>\n</div>"
     },
     "metadata": {},
     "execution_count": 8
    }
   ],
   "source": [
    "to_hz = lambda notenum: 2 ** ((notenum - 69)/12) * 440\n",
    "piano_df['freq'] = piano_df.note.map(to_hz)\n",
    "piano_df['duration'] = piano_df.end - piano_df.start\n",
    "piano_df"
   ]
  },
  {
   "cell_type": "code",
   "execution_count": 7,
   "metadata": {},
   "outputs": [
    {
     "output_type": "execute_result",
     "data": {
      "text/plain": "freq\n174.614116     0.300\n195.997718     0.400\n220.000000     0.525\n233.081881     0.300\n246.941651     0.150\n261.625565     0.300\n277.182631     0.450\n293.664768     1.125\n329.627557     0.450\n349.228231     0.525\n391.995436     0.300\n440.000000     0.400\n466.163762     0.300\n523.251131     0.300\n554.365262     0.300\n587.329536     0.400\n659.255114     0.300\n698.456463     0.400\n783.990872     0.300\n880.000000     0.400\n932.327523     0.400\n1046.502261    0.250\nName: duration, dtype: float64"
     },
     "metadata": {},
     "execution_count": 7
    }
   ],
   "source": [
    "# Max duration for each note -- how long you need to record for\n",
    "piano_df.groupby('freq').duration.max()"
   ]
  },
  {
   "cell_type": "code",
   "execution_count": null,
   "metadata": {},
   "outputs": [],
   "source": [
    "# Midi velocity to volume?"
   ]
  }
 ]
}