{
 "metadata": {
  "language_info": {
   "codemirror_mode": {
    "name": "ipython",
    "version": 3
   },
   "file_extension": ".py",
   "mimetype": "text/x-python",
   "name": "python",
   "nbconvert_exporter": "python",
   "pygments_lexer": "ipython3",
   "version": "3.9.2"
  },
  "orig_nbformat": 2,
  "kernelspec": {
   "name": "python392jvsc74a57bd063fd5069d213b44bf678585dea6b12cceca9941eaf7f819626cde1f2670de90d",
   "display_name": "Python 3.9.2 64-bit"
  }
 },
 "nbformat": 4,
 "nbformat_minor": 2,
 "cells": [
  {
   "cell_type": "code",
   "execution_count": 2,
   "metadata": {},
   "outputs": [],
   "source": [
    "import pretty_midi\n",
    "import numpy as np\n",
    "import pandas as pd\n"
   ]
  },
  {
   "cell_type": "code",
   "execution_count": 6,
   "metadata": {
    "tags": []
   },
   "outputs": [
    {
     "output_type": "stream",
     "name": "stdout",
     "text": [
      "duration: 333.4011438333333\n      note      start        end\n[Instrument(program=1, is_drum=False, name=\"\"), Instrument(program=1, is_drum=False, name=\"\"), Instrument(program=25, is_drum=False, name=\"\"), Instrument(program=22, is_drum=False, name=\"\")]\n"
     ]
    }
   ],
   "source": [
    "\n",
    "midi_data = pretty_midi.PrettyMIDI('songs/piano_man.mid')\n",
    "print(\"duration:\",midi_data.get_end_time())\n",
    "print(f'{\"note\":>10} {\"start\":>10} {\"end\":>10}')\n",
    "\n",
    "# Instrument codes: http://www.ccarh.org/courses/253/handout/gminstruments/\n",
    "instruments = midi_data.instruments\n",
    "print(instruments)\n",
    "\n",
    "piano1 = instruments[0]"
   ]
  },
  {
   "cell_type": "code",
   "execution_count": 4,
   "metadata": {
    "tags": []
   },
   "outputs": [],
   "source": [
    "def get_raw_notes(instrument):\n",
    "    attrs = ['start', 'end', 'pitch', 'velocity']\n",
    "    return [[getattr(note, a) for a in attrs] for note in instrument.notes]\n"
   ]
  },
  {
   "cell_type": "code",
   "execution_count": 5,
   "metadata": {},
   "outputs": [
    {
     "output_type": "execute_result",
     "data": {
      "text/plain": [
       "           start         end  note  velocity\n",
       "0      21.805997   22.208391    55        91\n",
       "1      21.823120   22.216952    62        96\n",
       "2      21.814559   22.225514    58        81\n",
       "3      22.216952   22.645030    55        93\n",
       "4      22.627907   23.047424    58        90\n",
       "...          ...         ...   ...       ...\n",
       "1745  359.188473  364.331313    57        81\n",
       "1746  364.322384  364.911668    60        46\n",
       "1747  364.349170  365.036668    57        45\n",
       "1748  364.304527  365.045596    53        61\n",
       "1749  364.367027  441.572127    41        42\n",
       "\n",
       "[1750 rows x 4 columns]"
      ],
      "text/html": "<div>\n<style scoped>\n    .dataframe tbody tr th:only-of-type {\n        vertical-align: middle;\n    }\n\n    .dataframe tbody tr th {\n        vertical-align: top;\n    }\n\n    .dataframe thead th {\n        text-align: right;\n    }\n</style>\n<table border=\"1\" class=\"dataframe\">\n  <thead>\n    <tr style=\"text-align: right;\">\n      <th></th>\n      <th>start</th>\n      <th>end</th>\n      <th>note</th>\n      <th>velocity</th>\n    </tr>\n  </thead>\n  <tbody>\n    <tr>\n      <th>0</th>\n      <td>21.805997</td>\n      <td>22.208391</td>\n      <td>55</td>\n      <td>91</td>\n    </tr>\n    <tr>\n      <th>1</th>\n      <td>21.823120</td>\n      <td>22.216952</td>\n      <td>62</td>\n      <td>96</td>\n    </tr>\n    <tr>\n      <th>2</th>\n      <td>21.814559</td>\n      <td>22.225514</td>\n      <td>58</td>\n      <td>81</td>\n    </tr>\n    <tr>\n      <th>3</th>\n      <td>22.216952</td>\n      <td>22.645030</td>\n      <td>55</td>\n      <td>93</td>\n    </tr>\n    <tr>\n      <th>4</th>\n      <td>22.627907</td>\n      <td>23.047424</td>\n      <td>58</td>\n      <td>90</td>\n    </tr>\n    <tr>\n      <th>...</th>\n      <td>...</td>\n      <td>...</td>\n      <td>...</td>\n      <td>...</td>\n    </tr>\n    <tr>\n      <th>1745</th>\n      <td>359.188473</td>\n      <td>364.331313</td>\n      <td>57</td>\n      <td>81</td>\n    </tr>\n    <tr>\n      <th>1746</th>\n      <td>364.322384</td>\n      <td>364.911668</td>\n      <td>60</td>\n      <td>46</td>\n    </tr>\n    <tr>\n      <th>1747</th>\n      <td>364.349170</td>\n      <td>365.036668</td>\n      <td>57</td>\n      <td>45</td>\n    </tr>\n    <tr>\n      <th>1748</th>\n      <td>364.304527</td>\n      <td>365.045596</td>\n      <td>53</td>\n      <td>61</td>\n    </tr>\n    <tr>\n      <th>1749</th>\n      <td>364.367027</td>\n      <td>441.572127</td>\n      <td>41</td>\n      <td>42</td>\n    </tr>\n  </tbody>\n</table>\n<p>1750 rows × 4 columns</p>\n</div>"
     },
     "metadata": {},
     "execution_count": 5
    }
   ],
   "source": [
    "piano_df = pd.DataFrame(get_raw_notes(piano1), \n",
    "                        columns=['start','end','note', 'velocity'])\n",
    "piano_df "
   ]
  },
  {
   "cell_type": "code",
   "execution_count": 8,
   "metadata": {},
   "outputs": [
    {
     "output_type": "execute_result",
     "data": {
      "text/plain": [
       "     start     end  note  velocity        freq  duration\n",
       "0     0.00   0.300    62       108  293.664768     0.300\n",
       "1     0.30   0.450    62       108  293.664768     0.150\n",
       "2     0.45   0.750    62       108  293.664768     0.300\n",
       "3     0.75   0.900    62       108  293.664768     0.150\n",
       "4     0.90   1.200    62       108  293.664768     0.300\n",
       "..     ...     ...   ...       ...         ...       ...\n",
       "555  75.30  75.550    76       108  659.255114     0.250\n",
       "556  75.60  76.000    65       108  349.228231     0.400\n",
       "557  75.60  76.000    69       108  440.000000     0.400\n",
       "558  75.60  76.000    74       108  587.329536     0.400\n",
       "559  76.50  77.625    62       108  293.664768     1.125\n",
       "\n",
       "[560 rows x 6 columns]"
      ],
      "text/html": "<div>\n<style scoped>\n    .dataframe tbody tr th:only-of-type {\n        vertical-align: middle;\n    }\n\n    .dataframe tbody tr th {\n        vertical-align: top;\n    }\n\n    .dataframe thead th {\n        text-align: right;\n    }\n</style>\n<table border=\"1\" class=\"dataframe\">\n  <thead>\n    <tr style=\"text-align: right;\">\n      <th></th>\n      <th>start</th>\n      <th>end</th>\n      <th>note</th>\n      <th>velocity</th>\n      <th>freq</th>\n      <th>duration</th>\n    </tr>\n  </thead>\n  <tbody>\n    <tr>\n      <th>0</th>\n      <td>0.00</td>\n      <td>0.300</td>\n      <td>62</td>\n      <td>108</td>\n      <td>293.664768</td>\n      <td>0.300</td>\n    </tr>\n    <tr>\n      <th>1</th>\n      <td>0.30</td>\n      <td>0.450</td>\n      <td>62</td>\n      <td>108</td>\n      <td>293.664768</td>\n      <td>0.150</td>\n    </tr>\n    <tr>\n      <th>2</th>\n      <td>0.45</td>\n      <td>0.750</td>\n      <td>62</td>\n      <td>108</td>\n      <td>293.664768</td>\n      <td>0.300</td>\n    </tr>\n    <tr>\n      <th>3</th>\n      <td>0.75</td>\n      <td>0.900</td>\n      <td>62</td>\n      <td>108</td>\n      <td>293.664768</td>\n      <td>0.150</td>\n    </tr>\n    <tr>\n      <th>4</th>\n      <td>0.90</td>\n      <td>1.200</td>\n      <td>62</td>\n      <td>108</td>\n      <td>293.664768</td>\n      <td>0.300</td>\n    </tr>\n    <tr>\n      <th>...</th>\n      <td>...</td>\n      <td>...</td>\n      <td>...</td>\n      <td>...</td>\n      <td>...</td>\n      <td>...</td>\n    </tr>\n    <tr>\n      <th>555</th>\n      <td>75.30</td>\n      <td>75.550</td>\n      <td>76</td>\n      <td>108</td>\n      <td>659.255114</td>\n      <td>0.250</td>\n    </tr>\n    <tr>\n      <th>556</th>\n      <td>75.60</td>\n      <td>76.000</td>\n      <td>65</td>\n      <td>108</td>\n      <td>349.228231</td>\n      <td>0.400</td>\n    </tr>\n    <tr>\n      <th>557</th>\n      <td>75.60</td>\n      <td>76.000</td>\n      <td>69</td>\n      <td>108</td>\n      <td>440.000000</td>\n      <td>0.400</td>\n    </tr>\n    <tr>\n      <th>558</th>\n      <td>75.60</td>\n      <td>76.000</td>\n      <td>74</td>\n      <td>108</td>\n      <td>587.329536</td>\n      <td>0.400</td>\n    </tr>\n    <tr>\n      <th>559</th>\n      <td>76.50</td>\n      <td>77.625</td>\n      <td>62</td>\n      <td>108</td>\n      <td>293.664768</td>\n      <td>1.125</td>\n    </tr>\n  </tbody>\n</table>\n<p>560 rows × 6 columns</p>\n</div>"
     },
     "metadata": {},
     "execution_count": 8
    }
   ],
   "source": [
    "to_hz = lambda notenum: 2 ** ((notenum - 69)/12) * 440\n",
    "piano_df['freq'] = piano_df.note.map(to_hz)\n",
    "piano_df['duration'] = piano_df.end - piano_df.start\n",
    "piano_df"
   ]
  },
  {
   "cell_type": "code",
   "execution_count": 7,
   "metadata": {},
   "outputs": [
    {
     "output_type": "execute_result",
     "data": {
      "text/plain": "freq\n174.614116     0.300\n195.997718     0.400\n220.000000     0.525\n233.081881     0.300\n246.941651     0.150\n261.625565     0.300\n277.182631     0.450\n293.664768     1.125\n329.627557     0.450\n349.228231     0.525\n391.995436     0.300\n440.000000     0.400\n466.163762     0.300\n523.251131     0.300\n554.365262     0.300\n587.329536     0.400\n659.255114     0.300\n698.456463     0.400\n783.990872     0.300\n880.000000     0.400\n932.327523     0.400\n1046.502261    0.250\nName: duration, dtype: float64"
     },
     "metadata": {},
     "execution_count": 7
    }
   ],
   "source": [
    "# Max duration for each note -- how long you need to record for\n",
    "piano_df.groupby('freq').duration.max()"
   ]
  },
  {
   "cell_type": "code",
   "execution_count": null,
   "metadata": {},
   "outputs": [],
   "source": [
    "# Midi velocity to volume?"
   ]
  }
 ]
}