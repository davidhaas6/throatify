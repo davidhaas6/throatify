{
 "metadata": {
  "language_info": {
   "codemirror_mode": {
    "name": "ipython",
    "version": 3
   },
   "file_extension": ".py",
   "mimetype": "text/x-python",
   "name": "python",
   "nbconvert_exporter": "python",
   "pygments_lexer": "ipython3",
   "version": "3.9.2"
  },
  "orig_nbformat": 2,
  "kernelspec": {
   "name": "python392jvsc74a57bd063fd5069d213b44bf678585dea6b12cceca9941eaf7f819626cde1f2670de90d",
   "display_name": "Python 3.9.2 64-bit"
  }
 },
 "nbformat": 4,
 "nbformat_minor": 2,
 "cells": [
  {
   "cell_type": "code",
   "execution_count": 1,
   "metadata": {},
   "outputs": [],
   "source": [
    "import pretty_midi\n",
    "import numpy as np\n",
    "import pandas as pd\n"
   ]
  },
  {
   "cell_type": "code",
   "execution_count": 22,
   "metadata": {
    "tags": []
   },
   "outputs": [
    {
     "output_type": "stream",
     "name": "stdout",
     "text": [
      "duration: 224.87758753125001\n      note      start        end\n[Instrument(program=36, is_drum=False, name=\"Slap Bass 2         \"), Instrument(program=27, is_drum=False, name=\"Elec Guitar 1       \"), Instrument(program=49, is_drum=False, name=\"String Sect 3       \"), Instrument(program=88, is_drum=False, name=\"Doctor Solo         \"), Instrument(program=6, is_drum=False, name=\"Harpsichord 2       \"), Instrument(program=63, is_drum=False, name=\"Syn Brass 1         \"), Instrument(program=52, is_drum=False, name=\"Chorale             \"), Instrument(program=0, is_drum=True, name=\"Percussion          \")]\n"
     ]
    }
   ],
   "source": [
    "\n",
    "midi_data = pretty_midi.PrettyMIDI('songs/take_on_me.mid')\n",
    "print(\"duration:\",midi_data.get_end_time())\n",
    "print(f'{\"note\":>10} {\"start\":>10} {\"end\":>10}')\n",
    "\n",
    "# Instrument codes: http://www.ccarh.org/courses/253/handout/gminstruments/\n",
    "instruments = midi_data.instruments\n",
    "print(instruments)\n",
    "\n",
    "piano1 = instruments[0]"
   ]
  },
  {
   "cell_type": "code",
   "execution_count": 23,
   "metadata": {
    "tags": []
   },
   "outputs": [],
   "source": [
    "def get_df(instrument):\n",
    "    attrs = ['start', 'end', 'pitch', 'velocity']\n",
    "    data = [[getattr(note, a) for a in attrs] for note in instrument.notes]\n",
    "    instr_df = pd.DataFrame(data, columns=['start','end','note', 'velocity'])\n",
    "    to_hz = lambda notenum: 2 ** ((notenum - 69)/12) * 440\n",
    "    instr_df['freq'] = instr_df.note.map(to_hz)\n",
    "    instr_df['duration'] = instr_df.end - instr_df.start\n",
    "    return instr_df\n",
    "\n",
    "instrument_dfs = [get_df(instr) for instr in instruments]\n",
    "note_counts = [len(df.note.unique()) for df in instrument_dfs] \n",
    "first_notes = [df.start[0] for df in instrument_dfs] \n",
    "instr_names = [i.name for i in instruments]"
   ]
  },
  {
   "cell_type": "code",
   "execution_count": 25,
   "metadata": {},
   "outputs": [
    {
     "output_type": "execute_result",
     "data": {
      "text/plain": [
       "[12.714476062500001,\n",
       " 9.86314940625,\n",
       " 12.714476062500001,\n",
       " 18.4097329375,\n",
       " 29.807643125000002,\n",
       " 35.502900000000004,\n",
       " 52.59976528125,\n",
       " 1.3128676562500001]"
      ]
     },
     "metadata": {},
     "execution_count": 25
    }
   ],
   "source": [
    "first_notes"
   ]
  },
  {
   "cell_type": "code",
   "execution_count": 26,
   "metadata": {},
   "outputs": [
    {
     "output_type": "execute_result",
     "data": {
      "text/plain": [
       "['Slap Bass 2         ',\n",
       " 'Elec Guitar 1       ',\n",
       " 'String Sect 3       ',\n",
       " 'Doctor Solo         ',\n",
       " 'Harpsichord 2       ',\n",
       " 'Syn Brass 1         ',\n",
       " 'Chorale             ',\n",
       " 'Percussion          ']"
      ]
     },
     "metadata": {},
     "execution_count": 26
    }
   ],
   "source": [
    "instr_names"
   ]
  },
  {
   "cell_type": "code",
   "execution_count": 28,
   "metadata": {},
   "outputs": [
    {
     "output_type": "execute_result",
     "data": {
      "text/plain": [
       "          start         end  note  velocity         freq  duration\n",
       "0     18.409733   18.539171    90       127  1479.977691  0.129438\n",
       "1     18.409733   18.539171    78       127   739.988845  0.129438\n",
       "2     18.587247   18.761064    78       127   739.988845  0.173816\n",
       "3     18.587247   18.761064    90       127  1479.977691  0.173816\n",
       "4     18.768460   18.942276    74       127   587.329536  0.173816\n",
       "..          ...         ...   ...       ...          ...       ...\n",
       "327  154.448710  154.607733    88       127  1318.510228  0.159023\n",
       "328  154.629922  154.785248    88       127  1318.510228  0.155325\n",
       "329  154.629922  154.785248    76       127   659.255114  0.155325\n",
       "330  154.807437  154.947969    88       127  1318.510228  0.140532\n",
       "331  154.803739  154.947969    76       127   659.255114  0.144231\n",
       "\n",
       "[332 rows x 6 columns]"
      ],
      "text/html": "<div>\n<style scoped>\n    .dataframe tbody tr th:only-of-type {\n        vertical-align: middle;\n    }\n\n    .dataframe tbody tr th {\n        vertical-align: top;\n    }\n\n    .dataframe thead th {\n        text-align: right;\n    }\n</style>\n<table border=\"1\" class=\"dataframe\">\n  <thead>\n    <tr style=\"text-align: right;\">\n      <th></th>\n      <th>start</th>\n      <th>end</th>\n      <th>note</th>\n      <th>velocity</th>\n      <th>freq</th>\n      <th>duration</th>\n    </tr>\n  </thead>\n  <tbody>\n    <tr>\n      <th>0</th>\n      <td>18.409733</td>\n      <td>18.539171</td>\n      <td>90</td>\n      <td>127</td>\n      <td>1479.977691</td>\n      <td>0.129438</td>\n    </tr>\n    <tr>\n      <th>1</th>\n      <td>18.409733</td>\n      <td>18.539171</td>\n      <td>78</td>\n      <td>127</td>\n      <td>739.988845</td>\n      <td>0.129438</td>\n    </tr>\n    <tr>\n      <th>2</th>\n      <td>18.587247</td>\n      <td>18.761064</td>\n      <td>78</td>\n      <td>127</td>\n      <td>739.988845</td>\n      <td>0.173816</td>\n    </tr>\n    <tr>\n      <th>3</th>\n      <td>18.587247</td>\n      <td>18.761064</td>\n      <td>90</td>\n      <td>127</td>\n      <td>1479.977691</td>\n      <td>0.173816</td>\n    </tr>\n    <tr>\n      <th>4</th>\n      <td>18.768460</td>\n      <td>18.942276</td>\n      <td>74</td>\n      <td>127</td>\n      <td>587.329536</td>\n      <td>0.173816</td>\n    </tr>\n    <tr>\n      <th>...</th>\n      <td>...</td>\n      <td>...</td>\n      <td>...</td>\n      <td>...</td>\n      <td>...</td>\n      <td>...</td>\n    </tr>\n    <tr>\n      <th>327</th>\n      <td>154.448710</td>\n      <td>154.607733</td>\n      <td>88</td>\n      <td>127</td>\n      <td>1318.510228</td>\n      <td>0.159023</td>\n    </tr>\n    <tr>\n      <th>328</th>\n      <td>154.629922</td>\n      <td>154.785248</td>\n      <td>88</td>\n      <td>127</td>\n      <td>1318.510228</td>\n      <td>0.155325</td>\n    </tr>\n    <tr>\n      <th>329</th>\n      <td>154.629922</td>\n      <td>154.785248</td>\n      <td>76</td>\n      <td>127</td>\n      <td>659.255114</td>\n      <td>0.155325</td>\n    </tr>\n    <tr>\n      <th>330</th>\n      <td>154.807437</td>\n      <td>154.947969</td>\n      <td>88</td>\n      <td>127</td>\n      <td>1318.510228</td>\n      <td>0.140532</td>\n    </tr>\n    <tr>\n      <th>331</th>\n      <td>154.803739</td>\n      <td>154.947969</td>\n      <td>76</td>\n      <td>127</td>\n      <td>659.255114</td>\n      <td>0.144231</td>\n    </tr>\n  </tbody>\n</table>\n<p>332 rows × 6 columns</p>\n</div>"
     },
     "metadata": {},
     "execution_count": 28
    }
   ],
   "source": [
    "instrument_dfs[3]"
   ]
  },
  {
   "cell_type": "code",
   "execution_count": 8,
   "metadata": {},
   "outputs": [
    {
     "output_type": "execute_result",
     "data": {
      "text/plain": [
       "     start     end  note  velocity        freq  duration\n",
       "0     0.00   0.300    62       108  293.664768     0.300\n",
       "1     0.30   0.450    62       108  293.664768     0.150\n",
       "2     0.45   0.750    62       108  293.664768     0.300\n",
       "3     0.75   0.900    62       108  293.664768     0.150\n",
       "4     0.90   1.200    62       108  293.664768     0.300\n",
       "..     ...     ...   ...       ...         ...       ...\n",
       "555  75.30  75.550    76       108  659.255114     0.250\n",
       "556  75.60  76.000    65       108  349.228231     0.400\n",
       "557  75.60  76.000    69       108  440.000000     0.400\n",
       "558  75.60  76.000    74       108  587.329536     0.400\n",
       "559  76.50  77.625    62       108  293.664768     1.125\n",
       "\n",
       "[560 rows x 6 columns]"
      ],
      "text/html": "<div>\n<style scoped>\n    .dataframe tbody tr th:only-of-type {\n        vertical-align: middle;\n    }\n\n    .dataframe tbody tr th {\n        vertical-align: top;\n    }\n\n    .dataframe thead th {\n        text-align: right;\n    }\n</style>\n<table border=\"1\" class=\"dataframe\">\n  <thead>\n    <tr style=\"text-align: right;\">\n      <th></th>\n      <th>start</th>\n      <th>end</th>\n      <th>note</th>\n      <th>velocity</th>\n      <th>freq</th>\n      <th>duration</th>\n    </tr>\n  </thead>\n  <tbody>\n    <tr>\n      <th>0</th>\n      <td>0.00</td>\n      <td>0.300</td>\n      <td>62</td>\n      <td>108</td>\n      <td>293.664768</td>\n      <td>0.300</td>\n    </tr>\n    <tr>\n      <th>1</th>\n      <td>0.30</td>\n      <td>0.450</td>\n      <td>62</td>\n      <td>108</td>\n      <td>293.664768</td>\n      <td>0.150</td>\n    </tr>\n    <tr>\n      <th>2</th>\n      <td>0.45</td>\n      <td>0.750</td>\n      <td>62</td>\n      <td>108</td>\n      <td>293.664768</td>\n      <td>0.300</td>\n    </tr>\n    <tr>\n      <th>3</th>\n      <td>0.75</td>\n      <td>0.900</td>\n      <td>62</td>\n      <td>108</td>\n      <td>293.664768</td>\n      <td>0.150</td>\n    </tr>\n    <tr>\n      <th>4</th>\n      <td>0.90</td>\n      <td>1.200</td>\n      <td>62</td>\n      <td>108</td>\n      <td>293.664768</td>\n      <td>0.300</td>\n    </tr>\n    <tr>\n      <th>...</th>\n      <td>...</td>\n      <td>...</td>\n      <td>...</td>\n      <td>...</td>\n      <td>...</td>\n      <td>...</td>\n    </tr>\n    <tr>\n      <th>555</th>\n      <td>75.30</td>\n      <td>75.550</td>\n      <td>76</td>\n      <td>108</td>\n      <td>659.255114</td>\n      <td>0.250</td>\n    </tr>\n    <tr>\n      <th>556</th>\n      <td>75.60</td>\n      <td>76.000</td>\n      <td>65</td>\n      <td>108</td>\n      <td>349.228231</td>\n      <td>0.400</td>\n    </tr>\n    <tr>\n      <th>557</th>\n      <td>75.60</td>\n      <td>76.000</td>\n      <td>69</td>\n      <td>108</td>\n      <td>440.000000</td>\n      <td>0.400</td>\n    </tr>\n    <tr>\n      <th>558</th>\n      <td>75.60</td>\n      <td>76.000</td>\n      <td>74</td>\n      <td>108</td>\n      <td>587.329536</td>\n      <td>0.400</td>\n    </tr>\n    <tr>\n      <th>559</th>\n      <td>76.50</td>\n      <td>77.625</td>\n      <td>62</td>\n      <td>108</td>\n      <td>293.664768</td>\n      <td>1.125</td>\n    </tr>\n  </tbody>\n</table>\n<p>560 rows × 6 columns</p>\n</div>"
     },
     "metadata": {},
     "execution_count": 8
    }
   ],
   "source": [
    "to_hz = lambda notenum: 2 ** ((notenum - 69)/12) * 440\n",
    "piano_df['freq'] = piano_df.note.map(to_hz)\n",
    "piano_df['duration'] = piano_df.end - piano_df.start\n",
    "piano_df"
   ]
  },
  {
   "cell_type": "code",
   "execution_count": 7,
   "metadata": {},
   "outputs": [
    {
     "output_type": "execute_result",
     "data": {
      "text/plain": "freq\n174.614116     0.300\n195.997718     0.400\n220.000000     0.525\n233.081881     0.300\n246.941651     0.150\n261.625565     0.300\n277.182631     0.450\n293.664768     1.125\n329.627557     0.450\n349.228231     0.525\n391.995436     0.300\n440.000000     0.400\n466.163762     0.300\n523.251131     0.300\n554.365262     0.300\n587.329536     0.400\n659.255114     0.300\n698.456463     0.400\n783.990872     0.300\n880.000000     0.400\n932.327523     0.400\n1046.502261    0.250\nName: duration, dtype: float64"
     },
     "metadata": {},
     "execution_count": 7
    }
   ],
   "source": [
    "# Max duration for each note -- how long you need to record for\n",
    "piano_df.groupby('freq').duration.max()"
   ]
  },
  {
   "cell_type": "code",
   "execution_count": null,
   "metadata": {},
   "outputs": [],
   "source": [
    "# Midi velocity to volume?"
   ]
  }
 ]
}